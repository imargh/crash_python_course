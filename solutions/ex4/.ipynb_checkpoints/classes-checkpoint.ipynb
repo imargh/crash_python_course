{
 "cells": [
  {
   "cell_type": "code",
   "execution_count": 1,
   "id": "d1ed65bd",
   "metadata": {},
   "outputs": [
    {
     "name": "stdout",
     "output_type": "stream",
     "text": [
      "Number:\n",
      "1/1 \n",
      " Number:\n",
      "1/1\n",
      "Number:\n",
      "-247/200 \n",
      " Number:\n",
      "247/200\n",
      "Number:\n",
      "355/113 \n",
      " Number:\n",
      "355/113\n"
     ]
    },
    {
     "data": {
      "text/plain": [
       "'Rational(Number:\\n355/113, precision=1.e-5)'"
      ]
     },
     "execution_count": 1,
     "metadata": {},
     "output_type": "execute_result"
    }
   ],
   "source": [
    "import rational_package as ra\n",
    "\n",
    "#Tests for the class\n",
    "n1 = ra.Rational(1)\n",
    "\n",
    "n2 = ra.Rational(-1.235)\n",
    "\n",
    "n3 = ra.Rational(3.14159)\n",
    "\n",
    "print(n1,'\\n',abs(n1))\n",
    "print(n2,'\\n',abs(n2))\n",
    "print(n3,'\\n',abs(n3))\n",
    "\n",
    "repr(n3)\n"
   ]
  },
  {
   "cell_type": "code",
   "execution_count": 2,
   "id": "1aaa9025",
   "metadata": {},
   "outputs": [
    {
     "name": "stdout",
     "output_type": "stream",
     "text": [
      "Sum and subtraction:\n",
      "Number:\n",
      "-47/200\n",
      "Number:\n",
      "347/182\n",
      "Number:\n",
      "1720/393\n",
      "\n",
      "Multiplication:\n",
      "Number:\n",
      "-1098/283\n",
      "Number:\n",
      "355/113\n",
      "\n",
      "Division:\n",
      "Number:\n",
      "1/1\n",
      "Number:\n",
      "-57/145\n"
     ]
    }
   ],
   "source": [
    "#Arithmetic operations\n",
    "print(\"Sum and subtraction:\")\n",
    "result = n1 + n2\n",
    "print(result)\n",
    "\n",
    "result = n2 + n3\n",
    "print(result) \n",
    "\n",
    "result = n3 - n2\n",
    "print(result)\n",
    "\n",
    "print(\"\\nMultiplication:\")\n",
    "result = n2.__mult__(n3)\n",
    "print(result)\n",
    "\n",
    "result = n3.__mult__(n1)\n",
    "print(result)\n",
    "\n",
    "print(\"\\nDivision:\")\n",
    "result = n3 / n3\n",
    "print(result)\n",
    "\n",
    "result = n2 / n3\n",
    "print(result)"
   ]
  },
  {
   "cell_type": "code",
   "execution_count": 3,
   "id": "8824fd89",
   "metadata": {},
   "outputs": [
    {
     "data": {
      "text/plain": [
       "False"
      ]
     },
     "execution_count": 3,
     "metadata": {},
     "output_type": "execute_result"
    }
   ],
   "source": [
    "# Comparation operands\n",
    "n1 == n2"
   ]
  },
  {
   "cell_type": "code",
   "execution_count": 4,
   "id": "d235549e",
   "metadata": {},
   "outputs": [
    {
     "data": {
      "text/plain": [
       "True"
      ]
     },
     "execution_count": 4,
     "metadata": {},
     "output_type": "execute_result"
    }
   ],
   "source": [
    "n3 == n3"
   ]
  },
  {
   "cell_type": "code",
   "execution_count": 5,
   "id": "4c035a7d",
   "metadata": {},
   "outputs": [
    {
     "data": {
      "text/plain": [
       "True"
      ]
     },
     "execution_count": 5,
     "metadata": {},
     "output_type": "execute_result"
    }
   ],
   "source": [
    "n2 < n3"
   ]
  },
  {
   "cell_type": "code",
   "execution_count": 6,
   "id": "c467323e",
   "metadata": {},
   "outputs": [
    {
     "data": {
      "text/plain": [
       "-1"
      ]
     },
     "execution_count": 6,
     "metadata": {},
     "output_type": "execute_result"
    }
   ],
   "source": [
    "int(n2)"
   ]
  },
  {
   "cell_type": "code",
   "execution_count": 7,
   "id": "651d8ef3",
   "metadata": {},
   "outputs": [
    {
     "data": {
      "text/plain": [
       "1.0"
      ]
     },
     "execution_count": 7,
     "metadata": {},
     "output_type": "execute_result"
    }
   ],
   "source": [
    "float(n1)"
   ]
  },
  {
   "cell_type": "code",
   "execution_count": 8,
   "id": "aef8c6d3",
   "metadata": {},
   "outputs": [
    {
     "data": {
      "text/plain": [
       "3.1415929203539825"
      ]
     },
     "execution_count": 8,
     "metadata": {},
     "output_type": "execute_result"
    }
   ],
   "source": [
    "float(n3)"
   ]
  },
  {
   "cell_type": "code",
   "execution_count": 9,
   "id": "92e67cc3",
   "metadata": {},
   "outputs": [
    {
     "data": {
      "text/plain": [
       "-1.235"
      ]
     },
     "execution_count": 9,
     "metadata": {},
     "output_type": "execute_result"
    }
   ],
   "source": [
    "float(n2)"
   ]
  },
  {
   "cell_type": "code",
   "execution_count": null,
   "id": "e99e37ee",
   "metadata": {},
   "outputs": [],
   "source": []
  }
 ],
 "metadata": {
  "kernelspec": {
   "display_name": "Python 3 (ipykernel)",
   "language": "python",
   "name": "python3"
  },
  "language_info": {
   "codemirror_mode": {
    "name": "ipython",
    "version": 3
   },
   "file_extension": ".py",
   "mimetype": "text/x-python",
   "name": "python",
   "nbconvert_exporter": "python",
   "pygments_lexer": "ipython3",
   "version": "3.11.5"
  }
 },
 "nbformat": 4,
 "nbformat_minor": 5
}
