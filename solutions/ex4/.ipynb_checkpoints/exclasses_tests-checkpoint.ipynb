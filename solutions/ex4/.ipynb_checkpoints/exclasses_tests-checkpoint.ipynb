{
 "cells": [
  {
   "cell_type": "code",
   "execution_count": 14,
   "id": "9f755d7c",
   "metadata": {},
   "outputs": [],
   "source": [
    "import math\n",
    "def continued_fraction(x, precision=1e-5):\n",
    "        \"\"\"A function that converts a number into a rational approximation using continued fractions.\n",
    "\n",
    "    \t\tParameters\n",
    "    \t\t----------\n",
    "   \t\t x : float \n",
    "       \t\t the value we want to convert\n",
    "\n",
    "    \t\tReturns\n",
    "    \t\t-------\n",
    "    \t\t: tuple\n",
    "        \t\tThat contains the numerator and the denominator of\n",
    "        \"\"\"\n",
    "        # Initialize numerators and denominators for the continued fraction\n",
    "        a0 = math.floor(x)  # integer part\n",
    "        x_i = x - a0        # x_1 = x - a_0, fractional part\n",
    "        n_prev, n_curr = 1, a0  # n_0 = 1, n_1 = a_0, initialization\n",
    "        d_prev, d_curr = 0, 1   # d_0 = 0, d_1 = 1\n",
    "        \n",
    "        # Check if the fractional part is already 0\n",
    "        if x_i == 0:\n",
    "            return a0, 1\n",
    "    \n",
    "    \n",
    "        while True:\n",
    "            # Compute a_i = floor(1 / x_i)\n",
    "            a_i = math.floor(1 / x_i)\n",
    "            \n",
    "            # Update numerators and denominators\n",
    "            n_i = a_i * n_curr + n_prev\n",
    "            d_i = a_i * d_curr + d_prev\n",
    "            \n",
    "            # Check if the approximation is within the required precision\n",
    "            if abs(n_i / d_i - x) < precision:\n",
    "                break  # Stop if the difference is small enough\n",
    "            \n",
    "            # Update for the next iteration\n",
    "            n_prev, n_curr = n_curr, n_i\n",
    "            d_prev, d_curr = d_curr, d_i\n",
    "            \n",
    "            # Update x_i for the next step\n",
    "            x_i = 1 / (x_i) - a_i\n",
    "        \n",
    "        n_s, d_s = simplify(n_i, d_i)\n",
    "        \n",
    "        return (n_s, d_s)\n"
   ]
  },
  {
   "cell_type": "code",
   "execution_count": 15,
   "id": "028bf52b",
   "metadata": {},
   "outputs": [],
   "source": [
    "def prime100(n):\n",
    "    \"\"\"A function that finds all the prime numbers up to a given value\n",
    "\n",
    "    Parameters\n",
    "    ----------\n",
    "    n : int \n",
    "        the value up to which we find the prime numbers\n",
    "\n",
    "    Returns\n",
    "    -------\n",
    "    : list\n",
    "        a list with the prime numbers up to n\n",
    "    \"\"\"\n",
    "    numbers = {n for n in range(2,n+1)}\n",
    "\n",
    "\n",
    "    prime = numbers\n",
    "\n",
    "    # Iterating on all the elements a set with the multiples of each number is generated\n",
    "    \n",
    "    for i in numbers:\n",
    "        multiples = {i * j for j in range(2, 100 // i + 1)}\n",
    "\n",
    "        # Subtractiong the multiples from the set with all the numbers\n",
    "        prime = prime - multiples\n",
    "        \n",
    "\n",
    "    # Sort the number in increasing order\n",
    "    prime = sorted(prime)  \n",
    "        \n",
    "        \n",
    "    return prime"
   ]
  },
  {
   "cell_type": "code",
   "execution_count": 16,
   "id": "34561024",
   "metadata": {},
   "outputs": [],
   "source": [
    "def scomposition(n):\n",
    "    \"\"\"A function that decompose a given number in prime factors\n",
    "\n",
    "    Parameters\n",
    "    ----------\n",
    "    n : int \n",
    "        the number we want to decompose\n",
    "\n",
    "    Returns\n",
    "    -------\n",
    "    : list\n",
    "        of the prime factors of n\n",
    "    \"\"\"\n",
    "    factors = []\n",
    "    divisors = prime100(n)\n",
    "    i = 0\n",
    "    while n > 1:\n",
    "        while n % divisors[i] == 0:\n",
    "            factors.append(divisors[i])\n",
    "            n //= divisors[i]\n",
    "        #divisors += 1\n",
    "        i +=1\n",
    "    return factors"
   ]
  },
  {
   "cell_type": "code",
   "execution_count": 17,
   "id": "12a25127",
   "metadata": {},
   "outputs": [],
   "source": [
    "def simplify(num, denom):\n",
    "    \"\"\"A function that finds all the prime numbers up to a given value\n",
    "\n",
    "    Parameters\n",
    "    ----------\n",
    "    n : int \n",
    "        the value up to which we find the prime numbers\n",
    "\n",
    "    Returns\n",
    "    -------\n",
    "    : list\n",
    "        a list with the prime numbers up to n\n",
    "    \"\"\"\n",
    "    nfact = scomposition(num)\n",
    "    dfact = scomposition(denom)\n",
    "    \n",
    "    common = []\n",
    "    temp_list2 = dfact  # Copia per non modificare l'originale\n",
    "    for elem in nfact:\n",
    "        if elem in temp_list2:\n",
    "            common.append(elem)\n",
    "            temp_list2.remove(elem)\n",
    "    \n",
    "    \n",
    "    # devo calcolare l'mcd\n",
    "    if not common:\n",
    "        return num, denom\n",
    "    else:\n",
    "        #fare qualcosa per semplificare\n",
    "        gcd = 1\n",
    "        for factor in common:\n",
    "            gcd *= factor\n",
    "            \n",
    "        num = num / gcd\n",
    "        denom = denom /gcd\n",
    "        return num, denom"
   ]
  },
  {
   "cell_type": "code",
   "execution_count": 18,
   "id": "62fa4b07",
   "metadata": {},
   "outputs": [],
   "source": [
    "class Rational () :\n",
    "    \"\"\"\n",
    "    A class to represent and manage rational numbers.\n",
    "\n",
    "    Attributes\n",
    "    ----------\n",
    "    numerator : int\n",
    "        The numerator of the rational number.\n",
    "    denominator : int\n",
    "        The denominator of the rational number.\n",
    "    precision : float\n",
    "        The precision for approximating the rational number.\n",
    "\n",
    "    Methods\n",
    "    -------\n",
    "    __init__(x, precision=1e-5):\n",
    "        Initializes the rational number with a given value and precision.\n",
    "    __str__():\n",
    "        Returns a string representation of the rational number in 'numerator/denominator' format.\n",
    "    __repr__():\n",
    "        Returns the formal string representation of the Rational object.\n",
    "    __abs__():\n",
    "        Returns the absolute value of the rational number as a new Rational object.\n",
    "    __add__(other):\n",
    "        Adds two rational numbers and returns the result as a new Rational object.\n",
    "    __sub__(other):\n",
    "        Subtracts one rational number from another and returns the result as a new Rational object.\n",
    "    __mult__(other):\n",
    "        Multiplies two rational numbers and returns the result as a new Rational object.\n",
    "    __truediv__(other):\n",
    "        Divides one rational number by another and returns the result as a new Rational object.\n",
    "    __eq__(other):\n",
    "        Checks for equality between two Rational objects.\n",
    "    __gt__(other):\n",
    "        Compares two Rational objects to determine if one is greater than the other.\n",
    "    __float__():\n",
    "        Converts the Rational object to a floating-point number.\n",
    "    __int__():\n",
    "        Converts the Rational object to an integer.\n",
    "    \"\"\"\n",
    "    def __init__(self, x, precision=1e-5):\n",
    "        if precision <= 0 or precision > 1:\n",
    "            raise ValueError(\"Precision must be between 0 and 1.\")\n",
    "            \n",
    "        if type(x) == int :\n",
    "            self.numerator, self.denominator = x , 1\n",
    "        elif x == 0 :\n",
    "            self.numerator = 0\n",
    "        else :\n",
    "            self.numerator, self.denominator = continued_fraction(x, precision)\n",
    "        \n",
    "    def __str__ ( self ) :\n",
    "    \treturn f'Number:\\n{self.numerator}/{self.denominator}'\n",
    "    \n",
    "    def __repr__ ( x ) :\n",
    "    \treturn f'Rational({x}, precision=1.e-5)'\n",
    "    \n",
    "    def __abs__(self):\n",
    "        \"\"\"Return the absolute value of the rational number.\"\"\"\n",
    "        return Rational(abs(self.numerator)/ self.denominator)\n",
    "    \n",
    "    def __add__(self, other):\n",
    "        num = self.numerator * other.denominator + other.numerator * self.denominator\n",
    "        denom = self.denominator * other.denominator\n",
    "        return Rational(num / denom) # The simplification is inside the class\n",
    "    \n",
    "    def __sub__(self, other):\n",
    "        num = self.numerator * other.denominator - other.numerator * self.denominator\n",
    "        denom = self.denominator * other.denominator\n",
    "        return Rational(num / denom)\n",
    "    \n",
    "    def __mult__(self, other):\n",
    "        num = self.numerator * other.numerator\n",
    "        denom = self.denominator * other.denominator\n",
    "        return Rational(num / denom)\n",
    "    \n",
    "    def __truediv__(self, other):\n",
    "        num = self.numerator * other.denominator\n",
    "        denom = self.denominator * other.numerator\n",
    "        return Rational(num / denom)\n",
    "    \n",
    "    def __eq__(self, other):\n",
    "        return (self.numerator,self.denominator) == (other.numerator, other.denominator)\n",
    "    \n",
    "    def __gt__(self, other):\n",
    "        \"\"\"Return True if self > other, False otherwise.\"\"\"\n",
    "        # Compare a/b > c/d by cross-multiplying: a*d > c*b\n",
    "        return self.numerator * other.denominator > other.numerator * self.denominator\n",
    "\n",
    "    def __float__(self):\n",
    "        return self.numerator / self.denominator\n",
    "    \n",
    "    def __int__(self):\n",
    "        return int(self.numerator / self.denominator)"
   ]
  },
  {
   "cell_type": "code",
   "execution_count": 31,
   "id": "0d0b13ee",
   "metadata": {},
   "outputs": [
    {
     "name": "stdout",
     "output_type": "stream",
     "text": [
      "Number:\n",
      "1/1 \n",
      " Number:\n",
      "1/1\n",
      "Number:\n",
      "-247/200 \n",
      " Number:\n",
      "247/200\n",
      "Number:\n",
      "355/113 \n",
      " Number:\n",
      "355/113\n"
     ]
    },
    {
     "data": {
      "text/plain": [
       "'Rational(Number:\\n355/113, precision=1.e-5)'"
      ]
     },
     "execution_count": 31,
     "metadata": {},
     "output_type": "execute_result"
    }
   ],
   "source": [
    "#Tests for the class\n",
    "n1 = Rational(1)\n",
    "\n",
    "n2 = Rational(-1.235)\n",
    "\n",
    "n3 = Rational(3.14159)\n",
    "\n",
    "print(n1,'\\n',abs(n1))\n",
    "print(n2,'\\n',abs(n2))\n",
    "print(n3,'\\n',abs(n3))\n",
    "\n",
    "repr(n3)\n"
   ]
  },
  {
   "cell_type": "code",
   "execution_count": 39,
   "id": "75378e2a",
   "metadata": {},
   "outputs": [
    {
     "name": "stdout",
     "output_type": "stream",
     "text": [
      "Sum and subtraction:\n",
      "Number:\n",
      "-47/200\n",
      "Number:\n",
      "347/182\n",
      "Number:\n",
      "1720/393\n",
      "\n",
      "Multiplication:\n",
      "Number:\n",
      "-1098/283\n",
      "Number:\n",
      "355/113\n",
      "\n",
      "Division:\n",
      "Number:\n",
      "1/1\n",
      "Number:\n",
      "-57/145\n"
     ]
    }
   ],
   "source": [
    "#Arithmetic operations\n",
    "print(\"Sum and subtraction:\")\n",
    "result = n1 + n2\n",
    "print(result)\n",
    "\n",
    "result = n2 + n3\n",
    "print(result) \n",
    "\n",
    "result = n3 - n2\n",
    "print(result)\n",
    "\n",
    "print(\"\\nMultiplication:\")\n",
    "result = n2.__mult__(n3)\n",
    "print(result)\n",
    "\n",
    "result = n3.__mult__(n1)\n",
    "print(result)\n",
    "\n",
    "print(\"\\nDivision:\")\n",
    "result = n3 / n3\n",
    "print(result)\n",
    "\n",
    "result = n2 / n3\n",
    "print(result)"
   ]
  },
  {
   "cell_type": "code",
   "execution_count": 40,
   "id": "39a0fceb",
   "metadata": {},
   "outputs": [
    {
     "data": {
      "text/plain": [
       "True"
      ]
     },
     "execution_count": 40,
     "metadata": {},
     "output_type": "execute_result"
    }
   ],
   "source": [
    "# Comparation operands\n",
    "n1 == n2"
   ]
  },
  {
   "cell_type": "code",
   "execution_count": 41,
   "id": "fdfe2a5b",
   "metadata": {},
   "outputs": [
    {
     "data": {
      "text/plain": [
       "True"
      ]
     },
     "execution_count": 41,
     "metadata": {},
     "output_type": "execute_result"
    }
   ],
   "source": [
    "n3 == n3"
   ]
  },
  {
   "cell_type": "code",
   "execution_count": 23,
   "id": "5375cc61",
   "metadata": {},
   "outputs": [
    {
     "data": {
      "text/plain": [
       "False"
      ]
     },
     "execution_count": 23,
     "metadata": {},
     "output_type": "execute_result"
    }
   ],
   "source": [
    "n1 > n1"
   ]
  },
  {
   "cell_type": "code",
   "execution_count": 42,
   "id": "a905ae0e",
   "metadata": {},
   "outputs": [
    {
     "data": {
      "text/plain": [
       "True"
      ]
     },
     "execution_count": 42,
     "metadata": {},
     "output_type": "execute_result"
    }
   ],
   "source": [
    "n2 < n3"
   ]
  },
  {
   "cell_type": "code",
   "execution_count": 43,
   "id": "fce7beb1",
   "metadata": {},
   "outputs": [
    {
     "data": {
      "text/plain": [
       "-1"
      ]
     },
     "execution_count": 43,
     "metadata": {},
     "output_type": "execute_result"
    }
   ],
   "source": [
    "int(n2)"
   ]
  },
  {
   "cell_type": "code",
   "execution_count": 44,
   "id": "2f5d24d9",
   "metadata": {},
   "outputs": [
    {
     "data": {
      "text/plain": [
       "1.0"
      ]
     },
     "execution_count": 44,
     "metadata": {},
     "output_type": "execute_result"
    }
   ],
   "source": [
    "float(n1)"
   ]
  },
  {
   "cell_type": "code",
   "execution_count": 45,
   "id": "67fd6e35",
   "metadata": {},
   "outputs": [
    {
     "data": {
      "text/plain": [
       "3.1415929203539825"
      ]
     },
     "execution_count": 45,
     "metadata": {},
     "output_type": "execute_result"
    }
   ],
   "source": [
    "float(n3)"
   ]
  },
  {
   "cell_type": "code",
   "execution_count": 46,
   "id": "d7efe607",
   "metadata": {},
   "outputs": [
    {
     "data": {
      "text/plain": [
       "-1.235"
      ]
     },
     "execution_count": 46,
     "metadata": {},
     "output_type": "execute_result"
    }
   ],
   "source": [
    "float(n2)"
   ]
  },
  {
   "cell_type": "code",
   "execution_count": null,
   "id": "4d02ecf8",
   "metadata": {},
   "outputs": [],
   "source": []
  }
 ],
 "metadata": {
  "kernelspec": {
   "display_name": "Python 3 (ipykernel)",
   "language": "python",
   "name": "python3"
  },
  "language_info": {
   "codemirror_mode": {
    "name": "ipython",
    "version": 3
   },
   "file_extension": ".py",
   "mimetype": "text/x-python",
   "name": "python",
   "nbconvert_exporter": "python",
   "pygments_lexer": "ipython3",
   "version": "3.11.5"
  }
 },
 "nbformat": 4,
 "nbformat_minor": 5
}
