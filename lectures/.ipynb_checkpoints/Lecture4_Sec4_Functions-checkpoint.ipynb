{
 "cells": [
  {
   "cell_type": "markdown",
   "id": "631ade48",
   "metadata": {},
   "source": [
    "# Section 4 - Functions\n",
    "\n",
    "Functions are a set of grouped instructions which may be called together, that produce a given output or action\n",
    "\n",
    "* They are identified with a name and set of inputs\n",
    "* Functions are **FIRST-CLASS OBJECTS**, which means they can be\n",
    "    - created at runtime\n",
    "    - assigned to a variable or element in a data structure\n",
    "    - passed as an argument to a function\n",
    "    - returned as the result of a function\n",
    "* Functions have\n",
    "    - **POSITIONAL ARGUMENTS**, have to be provided in the right order, any starred and **ordered** iterable is OK.\n",
    "    - **KEYWORD ARGUMENTS**, are arguments **with a name** that identifies them. \n",
    "        Internally, keyword arguments are  treated as a dictionaries.\n",
    "\n",
    "A generic function, defined by the user will look something like this \n",
    "```python\n",
    "def function (*args, **kwargs) :\n",
    "    # do something with args\n",
    "    # do something with kwargs\n",
    "    # produce some result\n",
    "    return some_result\n",
    "```\n",
    "\n",
    "Main elements:\n",
    "\n",
    "- ``def`` tells the system what follows is a function definition\n",
    "- ``(*args, **kwargs)`` between parenteses the arguments of the function\n",
    "- ``:`` colon indicates where we start to define the behaviour\n",
    "- **indentated block** determines what is the function definition\n",
    "- (Optional) ``return`` values computed inside the function\n",
    "\n",
    "Let's make a function to check the behaviour of argumens:"
   ]
  },
  {
   "cell_type": "code",
   "execution_count": 3,
   "id": "cc1e64f0",
   "metadata": {},
   "outputs": [],
   "source": [
    "def foo(*positional, **keywords): #positional-> the order counts\n",
    "    print(\"Positional:\", positional, end='\\t')\n",
    "    print(\"Keywords:\", keywords)"
   ]
  },
  {
   "cell_type": "code",
   "execution_count": 2,
   "id": "396a8d6f",
   "metadata": {},
   "outputs": [
    {
     "name": "stdout",
     "output_type": "stream",
     "text": [
      "Positional: ('1st', '2nd', '3rd')\tKeywords: {}\n"
     ]
    }
   ],
   "source": [
    "foo('1st', '2nd', '3rd')"
   ]
  },
  {
   "cell_type": "code",
   "execution_count": 4,
   "id": "c702c8c9",
   "metadata": {},
   "outputs": [
    {
     "name": "stdout",
     "output_type": "stream",
     "text": [
      "Positional: ()\tKeywords: {'par1': '1st', 'par2': '2nd', 'par3': '3rd'}\n"
     ]
    }
   ],
   "source": [
    "foo(par1='1st', par2='2nd', par3='3rd')#keyword have a name and are converted a dictionary"
   ]
  },
  {
   "cell_type": "code",
   "execution_count": 5,
   "id": "24ebd811",
   "metadata": {},
   "outputs": [
    {
     "name": "stdout",
     "output_type": "stream",
     "text": [
      "Positional: ('1st',)\tKeywords: {'par2': '2nd', 'par3': '3rd'}\n"
     ]
    }
   ],
   "source": [
    "foo('1st', par2='2nd', par3='3rd')"
   ]
  },
  {
   "cell_type": "markdown",
   "id": "b94b73e0",
   "metadata": {},
   "source": [
    "As long as they are provided as a **starred ordered iterable**, positional arguments do not necessarily have to be passed first."
   ]
  },
  {
   "cell_type": "code",
   "execution_count": 6,
   "id": "448cc61e",
   "metadata": {},
   "outputs": [
    {
     "name": "stdout",
     "output_type": "stream",
     "text": [
      "Positional: ('tuple', 'unpacking')\tKeywords: {'par1': '1st_key', 'par2': '2nd_key'}\n"
     ]
    }
   ],
   "source": [
    "foo(par1='1st_key',*('tuple','unpacking'), par2='2nd_key')"
   ]
  },
  {
   "cell_type": "code",
   "execution_count": 7,
   "id": "d7b33c64",
   "metadata": {},
   "outputs": [
    {
     "name": "stdout",
     "output_type": "stream",
     "text": [
      "Positional: ('1st_pos', '2st_pos', '3rd_pos')\tKeywords: {'par1': '1st_key', 'par2': '2nd_key'}\n"
     ]
    }
   ],
   "source": [
    "foo(par1='1st_key',*['1st_pos'], par2='2nd_key',*['2st_pos','3rd_pos'])"
   ]
  },
  {
   "cell_type": "markdown",
   "id": "46d09973",
   "metadata": {},
   "source": [
    "But they have to be **_passed_ first** when defining a function: "
   ]
  },
  {
   "cell_type": "code",
   "execution_count": 8,
   "id": "a5f97384",
   "metadata": {},
   "outputs": [
    {
     "ename": "SyntaxError",
     "evalue": "arguments cannot follow var-keyword argument (1737973768.py, line 1)",
     "output_type": "error",
     "traceback": [
      "\u001b[0;36m  Cell \u001b[0;32mIn[8], line 1\u001b[0;36m\u001b[0m\n\u001b[0;31m    def bar (**kwargs, *args):\u001b[0m\n\u001b[0m                       ^\u001b[0m\n\u001b[0;31mSyntaxError\u001b[0m\u001b[0;31m:\u001b[0m arguments cannot follow var-keyword argument\n"
     ]
    }
   ],
   "source": [
    "def bar (**kwargs, *args):\n",
    "    print(\"Positional:\", positional, end='\\t')\n",
    "    print(\"Keywords:\", keywords)"
   ]
  },
  {
   "cell_type": "markdown",
   "id": "da081225",
   "metadata": {},
   "source": [
    "> **NOTE THAT**, even though not strictly necessary, it is **good practice** to pass ``args`` before ``kwargs``"
   ]
  },
  {
   "cell_type": "code",
   "execution_count": 9,
   "id": "b0ac0942",
   "metadata": {},
   "outputs": [
    {
     "name": "stdout",
     "output_type": "stream",
     "text": [
      "<class 'function'>\n",
      "hello\n"
     ]
    }
   ],
   "source": [
    "def hello():\n",
    "    print(\"hello\")\n",
    "    \n",
    "print(type(hello))\n",
    "\n",
    "a = hello\n",
    "a()"
   ]
  },
  {
   "cell_type": "markdown",
   "id": "e08a8aaf",
   "metadata": {},
   "source": [
    "### functions can use recursion"
   ]
  },
  {
   "cell_type": "code",
   "execution_count": 10,
   "id": "0fad5a02",
   "metadata": {},
   "outputs": [
    {
     "data": {
      "text/plain": [
       "145183092028285869634070784086308284983740379224208358846781574688061991349156420080065207861248000000000000000000"
      ]
     },
     "execution_count": 10,
     "metadata": {},
     "output_type": "execute_result"
    }
   ],
   "source": [
    "def factorial(n):\n",
    "    return 1 if n<2 else n * factorial(n-1)\n",
    "\n",
    "factorial(77)"
   ]
  },
  {
   "cell_type": "markdown",
   "id": "9f6c97cf",
   "metadata": {},
   "source": [
    "### args name in functions can be used as `keyword`"
   ]
  },
  {
   "cell_type": "code",
   "execution_count": 11,
   "id": "4f625695",
   "metadata": {},
   "outputs": [
    {
     "name": "stdout",
     "output_type": "stream",
     "text": [
      "a got to_a\n",
      "b got to_b\n",
      "c got to_c\n"
     ]
    }
   ],
   "source": [
    "def abc(a,b,c):\n",
    "    for i in ('a','b','c'):\n",
    "        print(i,\"got\",eval(i))\n",
    "\n",
    "abc('to_a', 'to_b', 'to_c')"
   ]
  },
  {
   "cell_type": "code",
   "execution_count": 12,
   "id": "0145edb8",
   "metadata": {},
   "outputs": [
    {
     "name": "stdout",
     "output_type": "stream",
     "text": [
      "a got to_a\n",
      "b got to_b\n",
      "c got to_c\n"
     ]
    }
   ],
   "source": [
    "abc(b = 'to_b', c = 'to_c', a = 'to_a')"
   ]
  },
  {
   "cell_type": "markdown",
   "id": "2042d809",
   "metadata": {},
   "source": [
    "###  if you want keyord-only arguments, put a `*` in the signature"
   ]
  },
  {
   "cell_type": "code",
   "execution_count": 13,
   "id": "0e91bd46",
   "metadata": {},
   "outputs": [
    {
     "name": "stdout",
     "output_type": "stream",
     "text": [
      "a got to_a\n",
      "b got to_b\n",
      "c got to_c\n"
     ]
    }
   ],
   "source": [
    "def abc_keyword_only(*,a,b,c):\n",
    "    for i in ('a','b','c'):\n",
    "        print(i,\"got\",eval(i))\n",
    "\n",
    "#abc_keyword_only('to_a', 'to_b', 'to_c') # error\n",
    "abc_keyword_only(b = 'to_b', c = 'to_c', a = 'to_a')"
   ]
  },
  {
   "cell_type": "markdown",
   "id": "84f705f3",
   "metadata": {},
   "source": [
    "### default values"
   ]
  },
  {
   "cell_type": "code",
   "execution_count": 14,
   "id": "95671df8",
   "metadata": {},
   "outputs": [
    {
     "name": "stdout",
     "output_type": "stream",
     "text": [
      "a got default_a\n",
      "b got to_b\n",
      "c got default_c\n"
     ]
    }
   ],
   "source": [
    "def abc_with_default(a='default_a',\n",
    "                     b='default_b',\n",
    "                     c='default_c'):\n",
    "    abc(a,b,c)\n",
    "    \n",
    "abc_with_default(b = 'to_b')"
   ]
  },
  {
   "cell_type": "markdown",
   "id": "546a6728",
   "metadata": {},
   "source": [
    "### A couple of relevant built-in functions\n",
    "\n",
    "* ``print`` redirects the representation string of the positional arguments to the **STDOUT** (by default)"
   ]
  },
  {
   "cell_type": "code",
   "execution_count": 15,
   "id": "3315d1a1",
   "metadata": {},
   "outputs": [
    {
     "name": "stdout",
     "output_type": "stream",
     "text": [
      "The answer is 42\n",
      "\n"
     ]
    }
   ],
   "source": [
    "answer=42\n",
    "print(f'The answer is {answer:d}', end='\\n\\n')"
   ]
  },
  {
   "cell_type": "code",
   "execution_count": 16,
   "id": "f5b37fda",
   "metadata": {},
   "outputs": [],
   "source": [
    "import sys"
   ]
  },
  {
   "cell_type": "code",
   "execution_count": 17,
   "id": "e6654f9c",
   "metadata": {},
   "outputs": [
    {
     "name": "stderr",
     "output_type": "stream",
     "text": [
      "error\n"
     ]
    }
   ],
   "source": [
    "a = 1\n",
    "b = 0\n",
    "try :\n",
    "    c = a/b\n",
    "except :\n",
    "    print( 'error', file=sys.stderr)"
   ]
  },
  {
   "cell_type": "markdown",
   "id": "bee9e4d2",
   "metadata": {},
   "source": [
    "* ``input`` redirects the **STDIN** to some user defined variable"
   ]
  },
  {
   "cell_type": "code",
   "execution_count": 19,
   "id": "91d94626",
   "metadata": {},
   "outputs": [
    {
     "name": "stdout",
     "output_type": "stream",
     "text": [
      "What is the question? hi\n"
     ]
    }
   ],
   "source": [
    "question=input('What is the question? ')"
   ]
  },
  {
   "cell_type": "code",
   "execution_count": 20,
   "id": "2709cbe4",
   "metadata": {},
   "outputs": [
    {
     "data": {
      "text/plain": [
       "'hi'"
      ]
     },
     "execution_count": 20,
     "metadata": {},
     "output_type": "execute_result"
    }
   ],
   "source": [
    "question"
   ]
  },
  {
   "cell_type": "code",
   "execution_count": 21,
   "id": "db3182b2",
   "metadata": {},
   "outputs": [
    {
     "name": "stdout",
     "output_type": "stream",
     "text": [
      "Help on method raw_input in module ipykernel.kernelbase:\n",
      "\n",
      "raw_input(prompt='') method of ipykernel.ipkernel.IPythonKernel instance\n",
      "    Forward raw_input to frontends\n",
      "    \n",
      "    Raises\n",
      "    ------\n",
      "    StdinNotImplementedError if active frontend doesn't support stdin.\n",
      "\n"
     ]
    }
   ],
   "source": [
    "help(input)"
   ]
  },
  {
   "cell_type": "markdown",
   "id": "894213f6",
   "metadata": {},
   "source": [
    "> **NOTE** that every STDIN entry is interpreted AS A STRING, so you should cast it to the relevant type:"
   ]
  },
  {
   "cell_type": "code",
   "execution_count": 22,
   "id": "3412963e",
   "metadata": {},
   "outputs": [
    {
     "data": {
      "text/plain": [
       "str"
      ]
     },
     "execution_count": 22,
     "metadata": {},
     "output_type": "execute_result"
    }
   ],
   "source": [
    "type(question)"
   ]
  },
  {
   "cell_type": "code",
   "execution_count": 23,
   "id": "51a89ba5",
   "metadata": {},
   "outputs": [
    {
     "name": "stdout",
     "output_type": "stream",
     "text": [
      "What is the answer?42\n"
     ]
    }
   ],
   "source": [
    "answer=int(input('What is the answer?'))"
   ]
  },
  {
   "cell_type": "code",
   "execution_count": 24,
   "id": "9a8d749f",
   "metadata": {},
   "outputs": [
    {
     "data": {
      "text/plain": [
       "(42, int)"
      ]
     },
     "execution_count": 24,
     "metadata": {},
     "output_type": "execute_result"
    }
   ],
   "source": [
    "answer, type(answer)"
   ]
  },
  {
   "cell_type": "markdown",
   "id": "530d2a0d",
   "metadata": {},
   "source": [
    "## Documentation is mandatory.\n",
    "\n",
    "Since in the Python language the information is implicit (as the type of the variables), special care has to be put in documenting the source code: explain what is the purpose of the function in a concise way and describe the arguments with their type, as well the expected result type.\n",
    "\n",
    "* **docstring**, the documentation string, should provide informations on usage, input arguments, and returned values\n",
    "* **annotation**, modifies the signature of a function, providing relevant information\n",
    "\n",
    "```python\n",
    "def foo () :\n",
    "    \"\"\"string documenting foo(). \n",
    "    accessible via help(foo)\n",
    "    \"\"\"\n",
    "    pass\n",
    "help(foo)\n",
    "```\n",
    "\n",
    "will produce the following output\n",
    "\n",
    "```\n",
    "Help on function foo in module __main__: \n",
    "\n",
    "foo()\n",
    "    string documenting foo(). \n",
    "    accessible via help(foo)\n",
    "```\n",
    "where ``foo()`` is the function **SIGNATURE**, and what follows is the **DOCUMENTATION**"
   ]
  },
  {
   "cell_type": "markdown",
   "id": "a765a52b",
   "metadata": {},
   "source": [
    "### docstring\n",
    "\n",
    "[Different possible styles exist](http://daouzli.com/blog/docstring.html), choose the one you like\n",
    "\n",
    "**BUT YOU SHOULD BE CONSISTENT**"
   ]
  },
  {
   "cell_type": "code",
   "execution_count": 25,
   "id": "33b9799f",
   "metadata": {},
   "outputs": [
    {
     "name": "stdout",
     "output_type": "stream",
     "text": [
      "Help on function squared in module __main__:\n",
      "\n",
      "squared(x)\n",
      "    Calculates the square of a number\n",
      "    \n",
      "    Parameters\n",
      "    ----------\n",
      "    x : float\n",
      "        a number\n",
      "        \n",
      "    Returns\n",
      "    -------\n",
      "    : float\n",
      "        the square of x\n",
      "\n"
     ]
    }
   ],
   "source": [
    "def squared ( x ):\n",
    "    \"\"\"Calculates the square of a number\n",
    "    \n",
    "    Parameters\n",
    "    ----------\n",
    "    x : float\n",
    "        a number\n",
    "        \n",
    "    Returns\n",
    "    -------\n",
    "    : float\n",
    "        the square of x\n",
    "    \"\"\"\n",
    "    return x*x\n",
    "\n",
    "help(squared)"
   ]
  },
  {
   "cell_type": "markdown",
   "id": "956f70f1",
   "metadata": {},
   "source": [
    "### function annotations\n",
    "\n",
    "Modify the signature of the function providing informations on the input and output types."
   ]
  },
  {
   "cell_type": "code",
   "execution_count": 27,
   "id": "9dd70cf2",
   "metadata": {},
   "outputs": [],
   "source": [
    "def complicated_function(text:str, max_len:'int>0'=80) -> str:\n",
    "    '''documentation for complicated_function'''\n",
    "    pass"
   ]
  },
  {
   "cell_type": "code",
   "execution_count": 28,
   "id": "4eff889b",
   "metadata": {},
   "outputs": [
    {
     "name": "stdout",
     "output_type": "stream",
     "text": [
      "Help on function complicated_function in module __main__:\n",
      "\n",
      "complicated_function(text: str, max_len: 'int>0' = 80) -> str\n",
      "    documentation for complicated_function\n",
      "\n"
     ]
    }
   ],
   "source": [
    "help(complicated_function)"
   ]
  },
  {
   "cell_type": "markdown",
   "id": "00668779",
   "metadata": {},
   "source": [
    "> **NOTE** that this is not fail-proof: it's for humans not for machines. "
   ]
  },
  {
   "cell_type": "code",
   "execution_count": 29,
   "id": "2cd3ad42",
   "metadata": {},
   "outputs": [],
   "source": [
    "from math import sqrt"
   ]
  },
  {
   "cell_type": "code",
   "execution_count": 30,
   "id": "29ba82c9",
   "metadata": {},
   "outputs": [
    {
     "ename": "ValueError",
     "evalue": "math domain error",
     "output_type": "error",
     "traceback": [
      "\u001b[0;31m---------------------------------------------------------------------------\u001b[0m",
      "\u001b[0;31mValueError\u001b[0m                                Traceback (most recent call last)",
      "Cell \u001b[0;32mIn[30], line 1\u001b[0m\n\u001b[0;32m----> 1\u001b[0m sqrt(\u001b[38;5;241m-\u001b[39m\u001b[38;5;241m2\u001b[39m)\n",
      "\u001b[0;31mValueError\u001b[0m: math domain error"
     ]
    }
   ],
   "source": [
    "sqrt(-2)"
   ]
  },
  {
   "cell_type": "code",
   "execution_count": 31,
   "id": "b211db9a",
   "metadata": {},
   "outputs": [],
   "source": [
    "def buggy_sqrt_safe( x : 'float>0.0' ) -> float:\n",
    "    from math import sqrt\n",
    "    return sqrt(x)"
   ]
  },
  {
   "cell_type": "code",
   "execution_count": 32,
   "id": "7a57d846",
   "metadata": {},
   "outputs": [
    {
     "ename": "NameError",
     "evalue": "name 'sqrt_safe' is not defined",
     "output_type": "error",
     "traceback": [
      "\u001b[0;31m---------------------------------------------------------------------------\u001b[0m",
      "\u001b[0;31mNameError\u001b[0m                                 Traceback (most recent call last)",
      "Cell \u001b[0;32mIn[32], line 1\u001b[0m\n\u001b[0;32m----> 1\u001b[0m sqrt_safe(\u001b[38;5;241m-\u001b[39m\u001b[38;5;241m2\u001b[39m)\n",
      "\u001b[0;31mNameError\u001b[0m: name 'sqrt_safe' is not defined"
     ]
    }
   ],
   "source": [
    "sqrt_safe(-2)"
   ]
  },
  {
   "cell_type": "code",
   "execution_count": 33,
   "id": "e4e075b6",
   "metadata": {},
   "outputs": [],
   "source": [
    "def sqrt_safe(x) -> float:\n",
    "    from math import sqrt\n",
    "    if x < 0.0 :\n",
    "        return sqrt(-x) * 1j\n",
    "    else :\n",
    "        return sqrt(x)"
   ]
  },
  {
   "cell_type": "code",
   "execution_count": 34,
   "id": "9b5c284f",
   "metadata": {},
   "outputs": [
    {
     "data": {
      "text/plain": [
       "1.4142135623730951j"
      ]
     },
     "execution_count": 34,
     "metadata": {},
     "output_type": "execute_result"
    }
   ],
   "source": [
    "sqrt_safe(-2)"
   ]
  },
  {
   "cell_type": "code",
   "execution_count": 35,
   "id": "be4c5dcb",
   "metadata": {},
   "outputs": [],
   "source": [
    "def sqrt_safe_v2 (x : 'float>0.0') -> float:\n",
    "    from math import sqrt\n",
    "    from numpy import nan\n",
    "    res = None\n",
    "    try :\n",
    "        res = sqrt(x)\n",
    "    except :\n",
    "        res = None\n",
    "    return res"
   ]
  },
  {
   "cell_type": "code",
   "execution_count": 37,
   "id": "d8ecc5f1",
   "metadata": {},
   "outputs": [
    {
     "name": "stdout",
     "output_type": "stream",
     "text": [
      "not fine\n"
     ]
    }
   ],
   "source": [
    "if sqrt_safe_v2(-2) is not None:\n",
    "    print(\"Everything fine\")\n",
    "else: \n",
    "    print('not fine')"
   ]
  },
  {
   "cell_type": "code",
   "execution_count": 38,
   "id": "b6059eda",
   "metadata": {},
   "outputs": [],
   "source": [
    "#i can return a function\n",
    "# labda function -> u assign a function to a value\n",
    "lambda_function = lambda x : x**2"
   ]
  },
  {
   "cell_type": "code",
   "execution_count": 39,
   "id": "db5900fd",
   "metadata": {},
   "outputs": [
    {
     "data": {
      "text/plain": [
       "4"
      ]
     },
     "execution_count": 39,
     "metadata": {},
     "output_type": "execute_result"
    }
   ],
   "source": [
    "lambda_function(2)"
   ]
  },
  {
   "cell_type": "code",
   "execution_count": 40,
   "id": "a1a747a1",
   "metadata": {},
   "outputs": [
    {
     "data": {
      "text/plain": [
       "function"
      ]
     },
     "execution_count": 40,
     "metadata": {},
     "output_type": "execute_result"
    }
   ],
   "source": [
    "type(lambda_function)"
   ]
  }
 ],
 "metadata": {
  "kernelspec": {
   "display_name": "Python 3 (ipykernel)",
   "language": "python",
   "name": "python3"
  },
  "language_info": {
   "codemirror_mode": {
    "name": "ipython",
    "version": 3
   },
   "file_extension": ".py",
   "mimetype": "text/x-python",
   "name": "python",
   "nbconvert_exporter": "python",
   "pygments_lexer": "ipython3",
   "version": "3.11.5"
  }
 },
 "nbformat": 4,
 "nbformat_minor": 5
}
